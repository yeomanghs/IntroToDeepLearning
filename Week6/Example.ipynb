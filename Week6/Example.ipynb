{
 "cells": [
  {
   "cell_type": "code",
   "execution_count": 5,
   "metadata": {},
   "outputs": [
    {
     "data": {
      "text/plain": [
       "LogisticRegression(C=1.0, class_weight=None, dual=False, fit_intercept=True,\n",
       "                   intercept_scaling=1, l1_ratio=None, max_iter=100,\n",
       "                   multi_class='auto', n_jobs=None, penalty='l2',\n",
       "                   random_state=0, solver='liblinear', tol=0.0001, verbose=0,\n",
       "                   warm_start=False)"
      ]
     },
     "execution_count": 5,
     "metadata": {},
     "output_type": "execute_result"
    }
   ],
   "source": [
    "from sklearn.linear_model import LogisticRegression\n",
    "import numpy as np\n",
    "from sklearn.feature_extraction.text import CountVectorizer\n",
    "\n",
    "#a sample of 4 to use words for logistic regression\n",
    "X_train = [\n",
    "     'This is the first document.',\n",
    "     'This document is the second document.',\n",
    "     'And this is the third one.',\n",
    "     'Is this the first document?',\n",
    "        ]\n",
    "#y data for 0 or 1 \n",
    "Y_train = np.array([0, 0, 1, 1,])\n",
    "\n",
    "#we tokenize sentence by count vectorizer\n",
    "#train vectorizer with training data and transform training data \n",
    "vectorizer = CountVectorizer().fit(X_train)\n",
    "transform_X_train = vectorizer.transform(X_train)\n",
    "\n",
    "#use logistic regression\n",
    "model = LogisticRegression(solver='liblinear', random_state=0)\n",
    "#use transformed training data to train our model\n",
    "model.fit(transform_X_train, Y_train)"
   ]
  },
  {
   "cell_type": "code",
   "execution_count": 2,
   "metadata": {},
   "outputs": [
    {
     "data": {
      "text/plain": [
       "array([1])"
      ]
     },
     "execution_count": 2,
     "metadata": {},
     "output_type": "execute_result"
    }
   ],
   "source": [
    "#here comes our testing data \n",
    "X_test = [\n",
    "     'I am a boy.'\n",
    "        ]\n",
    "#transform testing data with trained vectorizer\n",
    "transform_X_test = vectorizer.transform(X_test)\n",
    "#prediction\n",
    "model.predict(transform_X_test)"
   ]
  }
 ],
 "metadata": {
  "kernelspec": {
   "display_name": "Python 3",
   "language": "python",
   "name": "python3"
  },
  "language_info": {
   "codemirror_mode": {
    "name": "ipython",
    "version": 3
   },
   "file_extension": ".py",
   "mimetype": "text/x-python",
   "name": "python",
   "nbconvert_exporter": "python",
   "pygments_lexer": "ipython3",
   "version": "3.7.3"
  }
 },
 "nbformat": 4,
 "nbformat_minor": 4
}
