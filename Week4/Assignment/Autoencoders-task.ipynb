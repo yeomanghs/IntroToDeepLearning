{
 "cells": [
  {
   "cell_type": "code",
   "execution_count": null,
   "metadata": {},
   "outputs": [],
   "source": [
    "# set tf 1.x for colab\n",
    "%tensorflow_version 1.x"
   ]
  },
  {
   "cell_type": "markdown",
   "metadata": {},
   "source": [
    "# Denoising Autoencoders And Where To Find Them\n",
    "\n",
    "Today we're going to train deep autoencoders and apply them to faces and similar images search.\n",
    "\n",
    "Our new test subjects are human faces from the [lfw dataset](http://vis-www.cs.umass.edu/lfw/)."
   ]
  },
  {
   "cell_type": "markdown",
   "metadata": {},
   "source": [
    "# Import stuff"
   ]
  },
  {
   "cell_type": "code",
   "execution_count": 1,
   "metadata": {
    "ExecuteTime": {
     "end_time": "2018-01-04T16:38:45.815533Z",
     "start_time": "2018-01-04T16:38:45.767828Z"
    }
   },
   "outputs": [],
   "source": [
    "import sys\n",
    "sys.path.append(\"..\")\n",
    "import grading"
   ]
  },
  {
   "cell_type": "code",
   "execution_count": 22,
   "metadata": {
    "ExecuteTime": {
     "end_time": "2018-01-04T16:38:56.825485Z",
     "start_time": "2018-01-04T16:38:46.131894Z"
    }
   },
   "outputs": [],
   "source": [
    "import tensorflow as tf\n",
    "import keras, keras.layers as L, keras.backend as K\n",
    "import numpy as np\n",
    "from sklearn.model_selection import train_test_split\n",
    "#from lfw_dataset import load_lfw_dataset\n",
    "%matplotlib inline\n",
    "import matplotlib.pyplot as plt\n",
    "import download_utils\n",
    "import keras_utils\n",
    "import numpy as np\n",
    "import pandas as pd\n",
    "import tarfile\n",
    "import tqdm_utils\n",
    "import cv2\n",
    "import os\n",
    "#from keras_utils import reset_tf_session"
   ]
  },
  {
   "cell_type": "code",
   "execution_count": null,
   "metadata": {
    "ExecuteTime": {
     "end_time": "2018-01-04T16:38:56.830804Z",
     "start_time": "2018-01-04T16:38:56.827147Z"
    }
   },
   "outputs": [],
   "source": [
    "# !!! remember to clear session/graph if you rebuild your graph to avoid out-of-memory errors !!!"
   ]
  },
  {
   "cell_type": "markdown",
   "metadata": {},
   "source": [
    "# Load dataset\n",
    "Dataset was downloaded for you. Relevant links (just in case):\n",
    "- http://www.cs.columbia.edu/CAVE/databases/pubfig/download/lfw_attributes.txt\n",
    "- http://vis-www.cs.umass.edu/lfw/lfw-deepfunneled.tgz\n",
    "- http://vis-www.cs.umass.edu/lfw/lfw.tgz"
   ]
  },
  {
   "cell_type": "code",
   "execution_count": null,
   "metadata": {
    "ExecuteTime": {
     "end_time": "2018-01-04T16:38:56.917476Z",
     "start_time": "2018-01-04T16:38:56.832132Z"
    },
    "collapsed": true
   },
   "outputs": [],
   "source": [
    "# we downloaded them for you, just link them here\n",
    "download_utils.link_week_4_resources()"
   ]
  },
  {
   "cell_type": "code",
   "execution_count": 7,
   "metadata": {},
   "outputs": [],
   "source": [
    "ATTRS_NAME = \"data/lfw_attributes.txt\"  # http://www.cs.columbia.edu/CAVE/databases/pubfig/download/lfw_attributes.txt\n",
    "IMAGES_NAME = \"data/lfw-deepfunneled.tgz\"  # http://vis-www.cs.umass.edu/lfw/lfw-deepfunneled.tgz\n",
    "RAW_IMAGES_NAME = \"data/lfw.tgz\"  # http://vis-www.cs.umass.edu/lfw/lfw.tgz"
   ]
  },
  {
   "cell_type": "code",
   "execution_count": 23,
   "metadata": {},
   "outputs": [],
   "source": [
    "def decode_image_from_raw_bytes(raw_bytes):\n",
    "    img = cv2.imdecode(np.asarray(bytearray(raw_bytes), dtype=np.uint8), 1)\n",
    "    img = cv2.cvtColor(img, cv2.COLOR_BGR2RGB)\n",
    "    return img\n",
    "\n",
    "def load_lfw_dataset(\n",
    "        use_raw=False,\n",
    "        dx=80, dy=80,\n",
    "        dimx=45, dimy=45):\n",
    "\n",
    "    # read attrs\n",
    "    df_attrs = pd.read_csv(ATTRS_NAME, sep='\\t', skiprows=1)\n",
    "    df_attrs.columns = list(df_attrs.columns)[1:] + [\"NaN\"]\n",
    "    df_attrs = df_attrs.drop(\"NaN\", axis=1)\n",
    "    imgs_with_attrs = set(map(tuple, df_attrs[[\"person\", \"imagenum\"]].values))\n",
    "\n",
    "    # read photos\n",
    "    all_photos = []\n",
    "    photo_ids = []\n",
    "\n",
    "    with tarfile.open(RAW_IMAGES_NAME if use_raw else IMAGES_NAME) as f:\n",
    "        for m in tqdm_utils.tqdm_notebook_failsafe(f.getmembers()):\n",
    "            if m.isfile() and m.name.endswith(\".jpg\"):\n",
    "                # prepare image\n",
    "                img = decode_image_from_raw_bytes(f.extractfile(m).read())\n",
    "                img = img[dy:-dy, dx:-dx]\n",
    "                img = cv2.resize(img, (dimx, dimy))\n",
    "                # parse person\n",
    "                fname = os.path.split(m.name)[-1]\n",
    "                fname_splitted = fname[:-4].replace('_', ' ').split()\n",
    "                person_id = ' '.join(fname_splitted[:-1])\n",
    "                photo_number = int(fname_splitted[-1])\n",
    "                if (person_id, photo_number) in imgs_with_attrs:\n",
    "                    all_photos.append(img)\n",
    "                    photo_ids.append({'person': person_id, 'imagenum': photo_number})\n",
    "\n",
    "    photo_ids = pd.DataFrame(photo_ids)\n",
    "    all_photos = np.stack(all_photos).astype('uint8')\n",
    "\n",
    "    # preserve photo_ids order!\n",
    "    all_attrs = photo_ids.merge(df_attrs, on=('person', 'imagenum')).drop([\"person\", \"imagenum\"], axis=1)\n",
    "\n",
    "    return all_photos, all_attrs"
   ]
  },
  {
   "cell_type": "code",
   "execution_count": 24,
   "metadata": {
    "ExecuteTime": {
     "end_time": "2018-01-04T16:39:21.680162Z",
     "start_time": "2018-01-04T16:39:01.554782Z"
    }
   },
   "outputs": [
    {
     "data": {
      "application/vnd.jupyter.widget-view+json": {
       "model_id": "823d5c01655540bf8bd8d2881a41202d",
       "version_major": 2,
       "version_minor": 0
      },
      "text/plain": [
       "HBox(children=(FloatProgress(value=0.0, max=18983.0), HTML(value='')))"
      ]
     },
     "metadata": {},
     "output_type": "display_data"
    },
    {
     "name": "stdout",
     "output_type": "stream",
     "text": [
      "\n"
     ]
    }
   ],
   "source": [
    "# load images\n",
    "X, attr = load_lfw_dataset(use_raw=True, dimx=32, dimy=32)\n",
    "IMG_SHAPE = X.shape[1:]\n",
    "\n",
    "# center images\n",
    "X = X.astype('float32') / 255.0 - 0.5\n",
    "\n",
    "# split\n",
    "X_train, X_test = train_test_split(X, test_size=0.1, random_state=42)"
   ]
  },
  {
   "cell_type": "code",
   "execution_count": 25,
   "metadata": {
    "ExecuteTime": {
     "end_time": "2018-01-04T16:39:36.649891Z",
     "start_time": "2018-01-04T16:39:36.646605Z"
    }
   },
   "outputs": [],
   "source": [
    "def show_image(x):\n",
    "    plt.imshow(np.clip(x + 0.5, 0, 1))"
   ]
  },
  {
   "cell_type": "code",
   "execution_count": 26,
   "metadata": {
    "ExecuteTime": {
     "end_time": "2018-01-04T16:39:39.028360Z",
     "start_time": "2018-01-04T16:39:38.258425Z"
    }
   },
   "outputs": [
    {
     "name": "stdout",
     "output_type": "stream",
     "text": [
      "X shape: (13143, 32, 32, 3)\n",
      "attr shape: (13143, 73)\n"
     ]
    },
    {
     "data": {
      "text/plain": [
       "18987"
      ]
     },
     "execution_count": 26,
     "metadata": {},
     "output_type": "execute_result"
    },
    {
     "data": {
      "image/png": "[encoded data removed]",
      "text/plain": [
       "<Figure size 432x288 with 6 Axes>"
      ]
     },
     "metadata": {
      "needs_background": "light"
     },
     "output_type": "display_data"
    }
   ],
   "source": [
    "plt.title('sample images')\n",
    "\n",
    "for i in range(6):\n",
    "    plt.subplot(2,3,i+1)\n",
    "    show_image(X[i])\n",
    "\n",
    "print(\"X shape:\", X.shape)\n",
    "print(\"attr shape:\", attr.shape)\n",
    "\n",
    "# try to free memory\n",
    "del X\n",
    "import gc\n",
    "gc.collect()"
   ]
  },
  {
   "cell_type": "markdown",
   "metadata": {},
   "source": [
    "# Autoencoder architecture\n",
    "\n",
    "Let's design autoencoder as two sequential keras models: the encoder and decoder respectively.\n",
    "\n",
    "We will then use symbolic API to apply and train these models.\n",
    "\n",
    "<img src=\"images/autoencoder.png\" style=\"width:50%\">"
   ]
  },
  {
   "cell_type": "markdown",
   "metadata": {},
   "source": [
    "# First step: PCA\n",
    "\n",
    "Principial Component Analysis is a popular dimensionality reduction method. \n",
    "\n",
    "Under the hood, PCA attempts to decompose object-feature matrix $X$ into two smaller matrices: $W$ and $\\hat W$ minimizing _mean squared error_:\n",
    "\n",
    "$$\\|(X W) \\hat{W} - X\\|^2_2 \\to_{W, \\hat{W}} \\min$$\n",
    "- $X \\in \\mathbb{R}^{n \\times m}$ - object matrix (**centered**);\n",
    "- $W \\in \\mathbb{R}^{m \\times d}$ - matrix of direct transformation;\n",
    "- $\\hat{W} \\in \\mathbb{R}^{d \\times m}$ - matrix of reverse transformation;\n",
    "- $n$ samples, $m$ original dimensions and $d$ target dimensions;\n",
    "\n",
    "In geometric terms, we want to find d axes along which most of variance occurs. The \"natural\" axes, if you wish.\n",
    "\n",
    "<img src=\"images/pca.png\" style=\"width:30%\">\n",
    "\n",
    "\n",
    "PCA can also be seen as a special case of an autoencoder.\n",
    "\n",
    "* __Encoder__: X -> Dense(d units) -> code\n",
    "* __Decoder__: code -> Dense(m units) -> X\n",
    "\n",
    "Where Dense is a fully-connected layer with linear activaton:   $f(X) = W \\cdot X + \\vec b $\n",
    "\n",
    "\n",
    "Note: the bias term in those layers is responsible for \"centering\" the matrix i.e. substracting mean."
   ]
  },
  {
   "cell_type": "code",
   "execution_count": 27,
   "metadata": {
    "ExecuteTime": {
     "end_time": "2018-01-04T16:39:42.058684Z",
     "start_time": "2018-01-04T16:39:42.046303Z"
    }
   },
   "outputs": [],
   "source": [
    "def build_pca_autoencoder(img_shape, code_size):\n",
    "    \"\"\"\n",
    "    Here we define a simple linear autoencoder as described above.\n",
    "    We also flatten and un-flatten data to be compatible with image shapes\n",
    "    \"\"\"\n",
    "    \n",
    "    encoder = keras.models.Sequential()\n",
    "    encoder.add(L.InputLayer(img_shape))\n",
    "    encoder.add(L.Flatten())                  #flatten image to vector\n",
    "    encoder.add(L.Dense(code_size))           #actual encoder\n",
    "\n",
    "    decoder = keras.models.Sequential()\n",
    "    decoder.add(L.InputLayer((code_size,)))\n",
    "    decoder.add(L.Dense(np.prod(img_shape)))  #actual decoder, height*width*3 units\n",
    "    decoder.add(L.Reshape(img_shape))         #un-flatten\n",
    "    \n",
    "    return encoder,decoder"
   ]
  },
  {
   "cell_type": "markdown",
   "metadata": {},
   "source": [
    "Meld them together into one model:"
   ]
  },
  {
   "cell_type": "code",
   "execution_count": 29,
   "metadata": {
    "ExecuteTime": {
     "end_time": "2018-01-04T16:41:04.366409Z",
     "start_time": "2018-01-04T16:40:45.919042Z"
    },
    "scrolled": true
   },
   "outputs": [
    {
     "name": "stdout",
     "output_type": "stream",
     "text": [
      "\n",
      "Epoch 1/15\n"
     ]
    },
    {
     "data": {
      "application/vnd.jupyter.widget-view+json": {
       "model_id": "47366583d2ee493699deb47dbb373ba8",
       "version_major": 2,
       "version_minor": 0
      },
      "text/plain": [
       "HBox(children=(FloatProgress(value=1.0, bar_style='info', max=1.0), HTML(value='')))"
      ]
     },
     "metadata": {},
     "output_type": "display_data"
    },
    {
     "name": "stdout",
     "output_type": "stream",
     "text": [
      "\n",
      "\n",
      "Epoch 2/15\n"
     ]
    },
    {
     "data": {
      "application/vnd.jupyter.widget-view+json": {
       "model_id": "e9f902e9d5204e08af0cebab7ab166a7",
       "version_major": 2,
       "version_minor": 0
      },
      "text/plain": [
       "HBox(children=(FloatProgress(value=1.0, bar_style='info', max=1.0), HTML(value='')))"
      ]
     },
     "metadata": {},
     "output_type": "display_data"
    },
    {
     "name": "stdout",
     "output_type": "stream",
     "text": [
      "\n",
      "\n",
      "Epoch 3/15\n"
     ]
    },
    {
     "data": {
      "application/vnd.jupyter.widget-view+json": {
       "model_id": "38ba7f28512f468297f2425f806106ec",
       "version_major": 2,
       "version_minor": 0
      },
      "text/plain": [
       "HBox(children=(FloatProgress(value=1.0, bar_style='info', max=1.0), HTML(value='')))"
      ]
     },
     "metadata": {},
     "output_type": "display_data"
    },
    {
     "name": "stdout",
     "output_type": "stream",
     "text": [
      "\n",
      "\n",
      "Epoch 4/15\n"
     ]
    },
    {
     "data": {
      "application/vnd.jupyter.widget-view+json": {
       "model_id": "052141ddd69f49c5a8c89090e66be669",
       "version_major": 2,
       "version_minor": 0
      },
      "text/plain": [
       "HBox(children=(FloatProgress(value=1.0, bar_style='info', max=1.0), HTML(value='')))"
      ]
     },
     "metadata": {},
     "output_type": "display_data"
    },
    {
     "name": "stdout",
     "output_type": "stream",
     "text": [
      "\n",
      "\n",
      "Epoch 5/15\n"
     ]
    },
    {
     "data": {
      "application/vnd.jupyter.widget-view+json": {
       "model_id": "e652d73141814625b6fac3303ad4b453",
       "version_major": 2,
       "version_minor": 0
      },
      "text/plain": [
       "HBox(children=(FloatProgress(value=1.0, bar_style='info', max=1.0), HTML(value='')))"
      ]
     },
     "metadata": {},
     "output_type": "display_data"
    },
    {
     "name": "stdout",
     "output_type": "stream",
     "text": [
      "\n",
      "\n",
      "Epoch 6/15\n"
     ]
    },
    {
     "data": {
      "application/vnd.jupyter.widget-view+json": {
       "model_id": "780c86530448434ca16a5666fb65357d",
       "version_major": 2,
       "version_minor": 0
      },
      "text/plain": [
       "HBox(children=(FloatProgress(value=1.0, bar_style='info', max=1.0), HTML(value='')))"
      ]
     },
     "metadata": {},
     "output_type": "display_data"
    },
    {
     "name": "stdout",
     "output_type": "stream",
     "text": [
      "\n",
      "\n",
      "Epoch 7/15\n"
     ]
    },
    {
     "data": {
      "application/vnd.jupyter.widget-view+json": {
       "model_id": "e13019761a2d44f78e3aff6fa691ab14",
       "version_major": 2,
       "version_minor": 0
      },
      "text/plain": [
       "HBox(children=(FloatProgress(value=1.0, bar_style='info', max=1.0), HTML(value='')))"
      ]
     },
     "metadata": {},
     "output_type": "display_data"
    },
    {
     "name": "stdout",
     "output_type": "stream",
     "text": [
      "\n",
      "\n",
      "Epoch 8/15\n"
     ]
    },
    {
     "data": {
      "application/vnd.jupyter.widget-view+json": {
       "model_id": "c0add791d741424f8e4ed3e2de5e0a52",
       "version_major": 2,
       "version_minor": 0
      },
      "text/plain": [
       "HBox(children=(FloatProgress(value=1.0, bar_style='info', max=1.0), HTML(value='')))"
      ]
     },
     "metadata": {},
     "output_type": "display_data"
    },
    {
     "name": "stdout",
     "output_type": "stream",
     "text": [
      "\n",
      "\n",
      "Epoch 9/15\n"
     ]
    },
    {
     "data": {
      "application/vnd.jupyter.widget-view+json": {
       "model_id": "a91a3e59c1cd4918931d93ee5312d196",
       "version_major": 2,
       "version_minor": 0
      },
      "text/plain": [
       "HBox(children=(FloatProgress(value=1.0, bar_style='info', max=1.0), HTML(value='')))"
      ]
     },
     "metadata": {},
     "output_type": "display_data"
    },
    {
     "name": "stdout",
     "output_type": "stream",
     "text": [
      "\n",
      "\n",
      "Epoch 10/15\n"
     ]
    },
    {
     "data": {
      "application/vnd.jupyter.widget-view+json": {
       "model_id": "8bb2749d032c4074a6ea94f3d70e0690",
       "version_major": 2,
       "version_minor": 0
      },
      "text/plain": [
       "HBox(children=(FloatProgress(value=1.0, bar_style='info', max=1.0), HTML(value='')))"
      ]
     },
     "metadata": {},
     "output_type": "display_data"
    },
    {
     "name": "stdout",
     "output_type": "stream",
     "text": [
      "\n",
      "\n",
      "Epoch 11/15\n"
     ]
    },
    {
     "data": {
      "application/vnd.jupyter.widget-view+json": {
       "model_id": "d378ea7185b64617a6c4ffbd7705f39a",
       "version_major": 2,
       "version_minor": 0
      },
      "text/plain": [
       "HBox(children=(FloatProgress(value=1.0, bar_style='info', max=1.0), HTML(value='')))"
      ]
     },
     "metadata": {},
     "output_type": "display_data"
    },
    {
     "name": "stdout",
     "output_type": "stream",
     "text": [
      "\n",
      "\n",
      "Epoch 12/15\n"
     ]
    },
    {
     "data": {
      "application/vnd.jupyter.widget-view+json": {
       "model_id": "665b45296e8b449495d1e440a87e43c8",
       "version_major": 2,
       "version_minor": 0
      },
      "text/plain": [
       "HBox(children=(FloatProgress(value=1.0, bar_style='info', max=1.0), HTML(value='')))"
      ]
     },
     "metadata": {},
     "output_type": "display_data"
    },
    {
     "name": "stdout",
     "output_type": "stream",
     "text": [
      "\n",
      "\n",
      "Epoch 13/15\n"
     ]
    },
    {
     "data": {
      "application/vnd.jupyter.widget-view+json": {
       "model_id": "0c7dd540cd1a4f5fad2bbaec5de8ca09",
       "version_major": 2,
       "version_minor": 0
      },
      "text/plain": [
       "HBox(children=(FloatProgress(value=1.0, bar_style='info', max=1.0), HTML(value='')))"
      ]
     },
     "metadata": {},
     "output_type": "display_data"
    },
    {
     "name": "stdout",
     "output_type": "stream",
     "text": [
      "\n",
      "\n",
      "Epoch 14/15\n"
     ]
    },
    {
     "data": {
      "application/vnd.jupyter.widget-view+json": {
       "model_id": "4b5736324e5149acb80cba8ea27cdf44",
       "version_major": 2,
       "version_minor": 0
      },
      "text/plain": [
       "HBox(children=(FloatProgress(value=1.0, bar_style='info', max=1.0), HTML(value='')))"
      ]
     },
     "metadata": {},
     "output_type": "display_data"
    },
    {
     "name": "stdout",
     "output_type": "stream",
     "text": [
      "\n",
      "\n",
      "Epoch 15/15\n"
     ]
    },
    {
     "data": {
      "application/vnd.jupyter.widget-view+json": {
       "model_id": "dfada3f09da84d379ddd6d5a12d6b48c",
       "version_major": 2,
       "version_minor": 0
      },
      "text/plain": [
       "HBox(children=(FloatProgress(value=1.0, bar_style='info', max=1.0), HTML(value='')))"
      ]
     },
     "metadata": {},
     "output_type": "display_data"
    },
    {
     "name": "stdout",
     "output_type": "stream",
     "text": [
      "\n"
     ]
    },
    {
     "data": {
      "text/plain": [
       "<keras.callbacks.callbacks.History at 0x214e7bae4a8>"
      ]
     },
     "execution_count": 29,
     "metadata": {},
     "output_type": "execute_result"
    }
   ],
   "source": [
    "#s = reset_tf_session()\n",
    "s = tf.compat.v1.reset_default_graph()\n",
    "\n",
    "encoder, decoder = build_pca_autoencoder(IMG_SHAPE, code_size=32)\n",
    "\n",
    "inp = L.Input(IMG_SHAPE)\n",
    "code = encoder(inp)\n",
    "reconstruction = decoder(code)\n",
    "\n",
    "autoencoder = keras.models.Model(inputs=inp, outputs=reconstruction)\n",
    "autoencoder.compile(optimizer='adamax', loss='mse')\n",
    "\n",
    "autoencoder.fit(x=X_train, y=X_train, epochs=15,\n",
    "                validation_data=[X_test, X_test],\n",
    "                callbacks=[keras_utils.TqdmProgressCallback()],\n",
    "                verbose=0)"
   ]
  },
  {
   "cell_type": "code",
   "execution_count": 30,
   "metadata": {
    "ExecuteTime": {
     "end_time": "2018-01-04T16:41:11.747674Z",
     "start_time": "2018-01-04T16:41:11.730725Z"
    }
   },
   "outputs": [],
   "source": [
    "def visualize(img,encoder,decoder):\n",
    "    \"\"\"Draws original, encoded and decoded images\"\"\"\n",
    "    code = encoder.predict(img[None])[0]  # img[None] is the same as img[np.newaxis, :]\n",
    "    reco = decoder.predict(code[None])[0]\n",
    "\n",
    "    plt.subplot(1,3,1)\n",
    "    plt.title(\"Original\")\n",
    "    show_image(img)\n",
    "\n",
    "    plt.subplot(1,3,2)\n",
    "    plt.title(\"Code\")\n",
    "    plt.imshow(code.reshape([code.shape[-1]//2,-1]))\n",
    "\n",
    "    plt.subplot(1,3,3)\n",
    "    plt.title(\"Reconstructed\")\n",
    "    show_image(reco)\n",
    "    plt.show()\n"
   ]
  },
  {
   "cell_type": "code",
   "execution_count": 31,
   "metadata": {
    "ExecuteTime": {
     "end_time": "2018-01-04T16:41:18.700138Z",
     "start_time": "2018-01-04T16:41:17.026047Z"
    },
    "scrolled": true
   },
   "outputs": [
    {
     "name": "stdout",
     "output_type": "stream",
     "text": [
      "PCA MSE: 0.006588339849159178\n"
     ]
    },
    {
     "data": {
      "image/png": "[encoded data removed]",
      "text/plain": [
       "<Figure size 432x288 with 3 Axes>"
      ]
     },
     "metadata": {
      "needs_background": "light"
     },
     "output_type": "display_data"
    },
    {
     "data": {
      "image/png": "[encoded data removed]",
      "text/plain": [
       "<Figure size 432x288 with 3 Axes>"
      ]
     },
     "metadata": {
      "needs_background": "light"
     },
     "output_type": "display_data"
    },
    {
     "data": {
      "image/png": "[encoded data removed]",
      "text/plain": [
       "<Figure size 432x288 with 3 Axes>"
      ]
     },
     "metadata": {
      "needs_background": "light"
     },
     "output_type": "display_data"
    },
    {
     "data": {
      "image/png": "[encoded data removed]",
      "text/plain": [
       "<Figure size 432x288 with 3 Axes>"
      ]
     },
     "metadata": {
      "needs_background": "light"
     },
     "output_type": "display_data"
    },
    {
     "data": {
      "image/png": "[encoded data removed]",
      "text/plain": [
       "<Figure size 432x288 with 3 Axes>"
      ]
     },
     "metadata": {
      "needs_background": "light"
     },
     "output_type": "display_data"
    }
   ],
   "source": [
    "score = autoencoder.evaluate(X_test,X_test,verbose=0)\n",
    "print(\"PCA MSE:\", score)\n",
    "\n",
    "for i in range(5):\n",
    "    img = X_test[i]\n",
    "    visualize(img,encoder,decoder)"
   ]
  },
  {
   "cell_type": "markdown",
   "metadata": {},
   "source": [
    "# Going deeper: convolutional autoencoder\n",
    "\n",
    "PCA is neat but surely we can do better. This time we want you to build a deep convolutional autoencoder by... stacking more layers.\n",
    "\n",
    "## Encoder\n",
    "\n",
    "The **encoder** part is pretty standard, we stack convolutional and pooling layers and finish with a dense layer to get the representation of desirable size (`code_size`).\n",
    "\n",
    "We recommend to use `activation='elu'` for all convolutional and dense layers.\n",
    "\n",
    "We recommend to repeat (conv, pool) 4 times with kernel size (3, 3), `padding='same'` and the following numbers of output channels: `32, 64, 128, 256`.\n",
    "\n",
    "Remember to flatten (`L.Flatten()`) output before adding the last dense layer!\n",
    "\n",
    "## Decoder\n",
    "\n",
    "For **decoder** we will use so-called \"transpose convolution\". \n",
    "\n",
    "Traditional convolutional layer takes a patch of an image and produces a number (patch -> number). In \"transpose convolution\" we want to take a number and produce a patch of an image (number -> patch). We need this layer to \"undo\" convolutions in encoder. We had a glimpse of it during week 3 (watch [this video](https://www.coursera.org/learn/intro-to-deep-learning/lecture/auRqf/a-glimpse-of-other-computer-vision-tasks) starting at 5:41).\n",
    "\n",
    "Here's how \"transpose convolution\" works:\n",
    "<img src=\"images/transpose_conv.jpg\" style=\"width:60%\">\n",
    "In this example we use a stride of 2 to produce 4x4 output, this way we \"undo\" pooling as well. Another way to think about it: we \"undo\" convolution with stride 2 (which is similar to conv + pool).\n",
    "\n",
    "You can add \"transpose convolution\" layer in Keras like this:\n",
    "```python\n",
    "L.Conv2DTranspose(filters=?, kernel_size=(3, 3), strides=2, activation='elu', padding='same')\n",
    "```\n",
    "\n",
    "Our decoder starts with a dense layer to \"undo\" the last layer of encoder. Remember to reshape its output to \"undo\" `L.Flatten()` in encoder.\n",
    "\n",
    "Now we're ready to undo (conv, pool) pairs. For this we need to stack 4 `L.Conv2DTranspose` layers with the following numbers of output channels: `128, 64, 32, 3`. Each of these layers will learn to \"undo\" (conv, pool) pair in encoder. For the last `L.Conv2DTranspose` layer use `activation=None` because that is our final image."
   ]
  },
  {
   "cell_type": "code",
   "execution_count": 35,
   "metadata": {
    "ExecuteTime": {
     "end_time": "2018-01-04T16:43:33.562406Z",
     "start_time": "2018-01-04T16:43:33.426581Z"
    },
    "collapsed": true
   },
   "outputs": [
    {
     "name": "stdout",
     "output_type": "stream",
     "text": [
      "Transpose convolution test for img_size=2, filter_size=2:\n",
      "input:\n",
      "[[1. 2.]\n",
      " [3. 4.]]\n",
      "filter:\n",
      "[[1. 1.]\n",
      " [1. 1.]]\n",
      "output:\n",
      "[[1. 1. 2. 2.]\n",
      " [1. 1. 2. 2.]\n",
      " [3. 3. 4. 4.]\n",
      " [3. 3. 4. 4.]]\n",
      "Transpose convolution test for img_size=2, filter_size=3:\n",
      "input:\n",
      "[[1. 2.]\n",
      " [3. 4.]]\n",
      "filter:\n",
      "[[1. 1. 1.]\n",
      " [1. 1. 1.]\n",
      " [1. 1. 1.]]\n",
      "output:\n",
      "[[ 1.  1.  3.  2.]\n",
      " [ 1.  1.  3.  2.]\n",
      " [ 4.  4. 10.  6.]\n",
      " [ 3.  3.  7.  4.]]\n",
      "Transpose convolution test for img_size=4, filter_size=2:\n",
      "input:\n",
      "[[ 1.  2.  3.  4.]\n",
      " [ 5.  6.  7.  8.]\n",
      " [ 9. 10. 11. 12.]\n",
      " [13. 14. 15. 16.]]\n",
      "filter:\n",
      "[[1. 1.]\n",
      " [1. 1.]]\n",
      "output:\n",
      "[[ 1.  1.  2.  2.  3.  3.  4.  4.]\n",
      " [ 1.  1.  2.  2.  3.  3.  4.  4.]\n",
      " [ 5.  5.  6.  6.  7.  7.  8.  8.]\n",
      " [ 5.  5.  6.  6.  7.  7.  8.  8.]\n",
      " [ 9.  9. 10. 10. 11. 11. 12. 12.]\n",
      " [ 9.  9. 10. 10. 11. 11. 12. 12.]\n",
      " [13. 13. 14. 14. 15. 15. 16. 16.]\n",
      " [13. 13. 14. 14. 15. 15. 16. 16.]]\n",
      "Transpose convolution test for img_size=4, filter_size=3:\n",
      "input:\n",
      "[[ 1.  2.  3.  4.]\n",
      " [ 5.  6.  7.  8.]\n",
      " [ 9. 10. 11. 12.]\n",
      " [13. 14. 15. 16.]]\n",
      "filter:\n",
      "[[1. 1. 1.]\n",
      " [1. 1. 1.]\n",
      " [1. 1. 1.]]\n",
      "output:\n",
      "[[ 1.  1.  3.  2.  5.  3.  7.  4.]\n",
      " [ 1.  1.  3.  2.  5.  3.  7.  4.]\n",
      " [ 6.  6. 14.  8. 18. 10. 22. 12.]\n",
      " [ 5.  5. 11.  6. 13.  7. 15.  8.]\n",
      " [14. 14. 30. 16. 34. 18. 38. 20.]\n",
      " [ 9.  9. 19. 10. 21. 11. 23. 12.]\n",
      " [22. 22. 46. 24. 50. 26. 54. 28.]\n",
      " [13. 13. 27. 14. 29. 15. 31. 16.]]\n"
     ]
    }
   ],
   "source": [
    "# Let's play around with transpose convolution on examples first\n",
    "def test_conv2d_transpose(img_size, filter_size):\n",
    "    print(\"Transpose convolution test for img_size={}, filter_size={}:\".format(img_size, filter_size))\n",
    "    \n",
    "    x = (np.arange(img_size ** 2, dtype=np.float32) + 1).reshape((1, img_size, img_size, 1))\n",
    "    f = (np.ones(filter_size ** 2, dtype=np.float32)).reshape((filter_size, filter_size, 1, 1))\n",
    "\n",
    "\n",
    "    with tf.compat.v1.Session() as s:\n",
    "    \n",
    "        conv = tf.nn.conv2d_transpose(x, f, \n",
    "                                      output_shape=(1, img_size * 2, img_size * 2, 1), \n",
    "                                      strides=[1, 2, 2, 1], \n",
    "                                      padding='SAME')\n",
    "\n",
    "        result = s.run(conv)\n",
    "        print(\"input:\")\n",
    "        print(x[0, :, :, 0])\n",
    "        print(\"filter:\")\n",
    "        print(f[:, :, 0, 0])\n",
    "        print(\"output:\")\n",
    "        print(result[0, :, :, 0])\n",
    "        s.close()\n",
    "        \n",
    "test_conv2d_transpose(img_size=2, filter_size=2)\n",
    "test_conv2d_transpose(img_size=2, filter_size=3)\n",
    "test_conv2d_transpose(img_size=4, filter_size=2)\n",
    "test_conv2d_transpose(img_size=4, filter_size=3)"
   ]
  },
  {
   "cell_type": "markdown",
   "metadata": {},
   "source": [
    "## Decoder\n",
    "\n",
    "For **decoder** we will use so-called \"transpose convolution\". \n",
    "\n",
    "Traditional convolutional layer takes a patch of an image and produces a number (patch -> number). In \"transpose convolution\" we want to take a number and produce a patch of an image (number -> patch). We need this layer to \"undo\" convolutions in encoder. We had a glimpse of it during week 3 (watch [this video](https://www.coursera.org/learn/intro-to-deep-learning/lecture/auRqf/a-glimpse-of-other-computer-vision-tasks) starting at 5:41).\n",
    "\n",
    "Here's how \"transpose convolution\" works:\n",
    "<img src=\"images/transpose_conv.jpg\" style=\"width:60%\">\n",
    "In this example we use a stride of 2 to produce 4x4 output, this way we \"undo\" pooling as well. Another way to think about it: we \"undo\" convolution with stride 2 (which is similar to conv + pool).\n",
    "\n",
    "You can add \"transpose convolution\" layer in Keras like this:\n",
    "```python\n",
    "L.Conv2DTranspose(filters=?, kernel_size=(3, 3), strides=2, activation='elu', padding='same')\n",
    "```\n",
    "\n",
    "Our decoder starts with a dense layer to \"undo\" the last layer of encoder. Remember to reshape its output to \"undo\" `L.Flatten()` in encoder.\n",
    "\n",
    "Now we're ready to undo (conv, pool) pairs. For this we need to stack 4 `L.Conv2DTranspose` layers with the following numbers of output channels: `128, 64, 32, 3`. Each of these layers will learn to \"undo\" (conv, pool) pair in encoder. For the last `L.Conv2DTranspose` layer use `activation=None` because that is our final image."
   ]
  },
  {
   "cell_type": "code",
   "execution_count": 37,
   "metadata": {
    "ExecuteTime": {
     "end_time": "2018-01-04T16:44:43.582011Z",
     "start_time": "2018-01-04T16:44:43.516283Z"
    }
   },
   "outputs": [],
   "source": [
    "def build_deep_autoencoder(img_shape, code_size):\n",
    "    \"\"\"PCA's deeper brother. See instructions above. Use `code_size` in layer definitions.\"\"\"\n",
    "    H, W, C = img_shape\n",
    "    \n",
    "    # encoder\n",
    "    encoder = keras.models.Sequential()\n",
    "    encoder.add(L.InputLayer(img_shape))\n",
    "    \n",
    "    ### YOUR CODE HERE: define encoder as per instructions above ###\n",
    "    #repeat (conv, pool) 4 times with kernel size (3, 3), padding='same' t\n",
    "    #the following numbers of output channels: 32, 64, 128, 256\n",
    "    #first convolution layer\n",
    "    encoder.add(L.Conv2D(filters = 32, kernel_size = (3, 3), strides = (1, 1), padding=\"same\", activation='elu'))\n",
    "    encoder.add(L.MaxPooling2D(pool_size = (2, 2)))\n",
    "    #second convolution layer\n",
    "    encoder.add(L.Conv2D(filters = 64, kernel_size = (3, 3), strides = (1, 1), padding=\"same\", activation='elu'))\n",
    "    encoder.add(L.MaxPooling2D(pool_size = (2, 2)))\n",
    "    #third convolution layer\n",
    "    encoder.add(L.Conv2D(filters = 128, kernel_size = (3, 3), strides = (1, 1), padding=\"same\", activation='elu'))\n",
    "    encoder.add(L.MaxPooling2D(pool_size = (2, 2)))\n",
    "    #fourth convolution layer\n",
    "    encoder.add(L.Conv2D(filters = 256, kernel_size = (3, 3), strides = (1, 1), padding=\"same\", activation='elu'))\n",
    "    encoder.add(L.MaxPooling2D(pool_size = (2, 2)))\n",
    "    \n",
    "    #Remember to flatten (L.Flatten()) output before adding the last dense layer!\n",
    "    encoder.add(L.Flatten())      #flatten image to vector            \n",
    "    encoder.add(L.Dense(code_size)) #dense layer\n",
    "    \n",
    "    # decoder\n",
    "    decoder = keras.models.Sequential()\n",
    "    decoder.add(L.InputLayer((code_size,)))\n",
    "    \n",
    "    ### YOUR CODE HERE: define decoder as per instructions above ###\n",
    "    #starts with a dense layer to \"undo\" the last layer of encoder.\n",
    "    decoder.add(L.Dense(2*2*256))                 #actual encoder \n",
    "    decoder.add(L.Reshape((2,2,256)))             #un-flatten\n",
    "    decoder.add(L.Conv2DTranspose(filters = 128, kernel_size = (3, 3), strides=2, activation='elu', padding='same'))\n",
    "    decoder.add(L.Conv2DTranspose(filters = 64, kernel_size = (3, 3), strides=2, activation='elu', padding='same'))\n",
    "    decoder.add(L.Conv2DTranspose(filters = 32, kernel_size = (3, 3), strides=2, activation='elu', padding='same'))\n",
    "    decoder.add(L.Conv2DTranspose(filters = 3, kernel_size = (3, 3), strides=2, activation=None, padding='same'))\n",
    "    \n",
    "    return encoder, decoder"
   ]
  },
  {
   "cell_type": "code",
   "execution_count": 40,
   "metadata": {
    "ExecuteTime": {
     "end_time": "2018-01-04T16:44:53.805124Z",
     "start_time": "2018-01-04T16:44:52.846510Z"
    }
   },
   "outputs": [
    {
     "name": "stdout",
     "output_type": "stream",
     "text": [
      "Testing code size 1\n",
      "Testing code size 8\n",
      "Testing code size 32\n",
      "Testing code size 128\n",
      "Testing code size 512\n",
      "All tests passed!\n"
     ]
    }
   ],
   "source": [
    "# Check autoencoder shapes along different code_sizes\n",
    "get_dim = lambda layer: np.prod(layer.output_shape[1:])\n",
    "for code_size in [1,8,32,128,512]:\n",
    "    s = tf.compat.v1.reset_default_graph()\n",
    "    encoder, decoder = build_deep_autoencoder(IMG_SHAPE, code_size=code_size)\n",
    "    print(\"Testing code size %i\" % code_size)\n",
    "    assert encoder.output_shape[1:]==(code_size,),\"encoder must output a code of required size\"\n",
    "    assert decoder.output_shape[1:]==IMG_SHAPE,   \"decoder must output an image of valid shape\"\n",
    "    assert len(encoder.trainable_weights)>=6,     \"encoder must contain at least 3 layers\"\n",
    "    assert len(decoder.trainable_weights)>=6,     \"decoder must contain at least 3 layers\"\n",
    "    \n",
    "    for layer in encoder.layers + decoder.layers:\n",
    "        assert get_dim(layer) >= code_size, \"Encoder layer %s is smaller than bottleneck (%i units)\"%(layer.name,get_dim(layer))\n",
    "\n",
    "print(\"All tests passed!\")\n",
    "s = tf.compat.v1.reset_default_graph()"
   ]
  },
  {
   "cell_type": "code",
   "execution_count": 41,
   "metadata": {
    "ExecuteTime": {
     "end_time": "2018-01-04T16:45:16.966538Z",
     "start_time": "2018-01-04T16:45:16.804252Z"
    },
    "scrolled": true
   },
   "outputs": [
    {
     "name": "stdout",
     "output_type": "stream",
     "text": [
      "Model: \"sequential_23\"\n",
      "_________________________________________________________________\n",
      "Layer (type)                 Output Shape              Param #   \n",
      "=================================================================\n",
      "conv2d_41 (Conv2D)           (None, 32, 32, 32)        896       \n",
      "_________________________________________________________________\n",
      "max_pooling2d_41 (MaxPooling (None, 16, 16, 32)        0         \n",
      "_________________________________________________________________\n",
      "conv2d_42 (Conv2D)           (None, 16, 16, 64)        18496     \n",
      "_________________________________________________________________\n",
      "max_pooling2d_42 (MaxPooling (None, 8, 8, 64)          0         \n",
      "_________________________________________________________________\n",
      "conv2d_43 (Conv2D)           (None, 8, 8, 128)         73856     \n",
      "_________________________________________________________________\n",
      "max_pooling2d_43 (MaxPooling (None, 4, 4, 128)         0         \n",
      "_________________________________________________________________\n",
      "conv2d_44 (Conv2D)           (None, 4, 4, 256)         295168    \n",
      "_________________________________________________________________\n",
      "max_pooling2d_44 (MaxPooling (None, 2, 2, 256)         0         \n",
      "_________________________________________________________________\n",
      "flatten_12 (Flatten)         (None, 1024)              0         \n",
      "_________________________________________________________________\n",
      "dense_23 (Dense)             (None, 32)                32800     \n",
      "=================================================================\n",
      "Total params: 421,216\n",
      "Trainable params: 421,216\n",
      "Non-trainable params: 0\n",
      "_________________________________________________________________\n",
      "Model: \"sequential_24\"\n",
      "_________________________________________________________________\n",
      "Layer (type)                 Output Shape              Param #   \n",
      "=================================================================\n",
      "dense_24 (Dense)             (None, 1024)              33792     \n",
      "_________________________________________________________________\n",
      "reshape_12 (Reshape)         (None, 2, 2, 256)         0         \n",
      "_________________________________________________________________\n",
      "conv2d_transpose_41 (Conv2DT (None, 4, 4, 128)         295040    \n",
      "_________________________________________________________________\n",
      "conv2d_transpose_42 (Conv2DT (None, 8, 8, 64)          73792     \n",
      "_________________________________________________________________\n",
      "conv2d_transpose_43 (Conv2DT (None, 16, 16, 32)        18464     \n",
      "_________________________________________________________________\n",
      "conv2d_transpose_44 (Conv2DT (None, 32, 32, 3)         867       \n",
      "=================================================================\n",
      "Total params: 421,955\n",
      "Trainable params: 421,955\n",
      "Non-trainable params: 0\n",
      "_________________________________________________________________\n"
     ]
    }
   ],
   "source": [
    "# Look at encoder and decoder shapes.\n",
    "# Total number of trainable parameters of encoder and decoder should be close.\n",
    "s = tf.compat.v1.reset_default_graph()\n",
    "encoder, decoder = build_deep_autoencoder(IMG_SHAPE, code_size=32)\n",
    "encoder.summary()\n",
    "decoder.summary()"
   ]
  },
  {
   "cell_type": "markdown",
   "metadata": {},
   "source": [
    "Convolutional autoencoder training. This will take **1 hour**. You're aiming at ~0.0056 validation MSE and ~0.0054 training MSE."
   ]
  },
  {
   "cell_type": "code",
   "execution_count": 42,
   "metadata": {
    "ExecuteTime": {
     "end_time": "2018-01-04T16:48:32.365157Z",
     "start_time": "2018-01-04T16:46:03.202875Z"
    }
   },
   "outputs": [],
   "source": [
    "s = tf.compat.v1.reset_default_graph()\n",
    "\n",
    "encoder, decoder = build_deep_autoencoder(IMG_SHAPE, code_size=32)\n",
    "\n",
    "inp = L.Input(IMG_SHAPE)\n",
    "code = encoder(inp)\n",
    "reconstruction = decoder(code)\n",
    "\n",
    "autoencoder = keras.models.Model(inputs=inp, outputs=reconstruction)\n",
    "autoencoder.compile(optimizer=\"adamax\", loss='mse')"
   ]
  },
  {
   "cell_type": "code",
   "execution_count": 43,
   "metadata": {
    "ExecuteTime": {
     "end_time": "2018-01-04T16:48:32.365157Z",
     "start_time": "2018-01-04T16:46:03.202875Z"
    }
   },
   "outputs": [],
   "source": [
    "# we will save model checkpoints here to continue training in case of kernel death\n",
    "model_filename = 'autoencoder.{0:03d}.hdf5'\n",
    "last_finished_epoch = None\n",
    "\n",
    "#### uncomment below to continue training from model checkpoint\n",
    "#### fill `last_finished_epoch` with your latest finished epoch\n",
    "# from keras.models import load_model\n",
    "# s = reset_tf_session()\n",
    "# last_finished_epoch = 4\n",
    "# autoencoder = load_model(model_filename.format(last_finished_epoch))\n",
    "# encoder = autoencoder.layers[1]\n",
    "# decoder = autoencoder.layers[2]"
   ]
  },
  {
   "cell_type": "code",
   "execution_count": 44,
   "metadata": {
    "ExecuteTime": {
     "end_time": "2018-01-04T16:48:32.365157Z",
     "start_time": "2018-01-04T16:46:03.202875Z"
    },
    "scrolled": true
   },
   "outputs": [
    {
     "name": "stdout",
     "output_type": "stream",
     "text": [
      "\n",
      "Epoch 1/25\n"
     ]
    },
    {
     "data": {
      "application/vnd.jupyter.widget-view+json": {
       "model_id": "1a534d06e6384678ad148e8e1e3ac311",
       "version_major": 2,
       "version_minor": 0
      },
      "text/plain": [
       "HBox(children=(FloatProgress(value=1.0, bar_style='info', max=1.0), HTML(value='')))"
      ]
     },
     "metadata": {},
     "output_type": "display_data"
    },
    {
     "name": "stdout",
     "output_type": "stream",
     "text": [
      "Model saved in autoencoder.000.hdf5\n",
      "\n",
      "\n",
      "Epoch 2/25\n"
     ]
    },
    {
     "data": {
      "application/vnd.jupyter.widget-view+json": {
       "model_id": "b1e95594ffae4b6282c0e02b94038d17",
       "version_major": 2,
       "version_minor": 0
      },
      "text/plain": [
       "HBox(children=(FloatProgress(value=1.0, bar_style='info', max=1.0), HTML(value='')))"
      ]
     },
     "metadata": {},
     "output_type": "display_data"
    },
    {
     "name": "stdout",
     "output_type": "stream",
     "text": [
      "Model saved in autoencoder.001.hdf5\n",
      "\n",
      "\n",
      "Epoch 3/25\n"
     ]
    },
    {
     "data": {
      "application/vnd.jupyter.widget-view+json": {
       "model_id": "d8b9c18bbbfd4593bf64bf991fb3ff71",
       "version_major": 2,
       "version_minor": 0
      },
      "text/plain": [
       "HBox(children=(FloatProgress(value=1.0, bar_style='info', max=1.0), HTML(value='')))"
      ]
     },
     "metadata": {},
     "output_type": "display_data"
    },
    {
     "name": "stdout",
     "output_type": "stream",
     "text": [
      "Model saved in autoencoder.002.hdf5\n",
      "\n",
      "\n",
      "Epoch 4/25\n"
     ]
    },
    {
     "data": {
      "application/vnd.jupyter.widget-view+json": {
       "model_id": "107c796e57464339a974cc3e833aa33e",
       "version_major": 2,
       "version_minor": 0
      },
      "text/plain": [
       "HBox(children=(FloatProgress(value=1.0, bar_style='info', max=1.0), HTML(value='')))"
      ]
     },
     "metadata": {},
     "output_type": "display_data"
    },
    {
     "name": "stdout",
     "output_type": "stream",
     "text": [
      "Model saved in autoencoder.003.hdf5\n",
      "\n",
      "\n",
      "Epoch 5/25\n"
     ]
    },
    {
     "data": {
      "application/vnd.jupyter.widget-view+json": {
       "model_id": "d9d7f75780264f2cac135f420d6c6570",
       "version_major": 2,
       "version_minor": 0
      },
      "text/plain": [
       "HBox(children=(FloatProgress(value=1.0, bar_style='info', max=1.0), HTML(value='')))"
      ]
     },
     "metadata": {},
     "output_type": "display_data"
    },
    {
     "name": "stdout",
     "output_type": "stream",
     "text": [
      "Model saved in autoencoder.004.hdf5\n",
      "\n",
      "\n",
      "Epoch 6/25\n"
     ]
    },
    {
     "data": {
      "application/vnd.jupyter.widget-view+json": {
       "model_id": "e5c6534dc511450eaad2f00c8b3805c5",
       "version_major": 2,
       "version_minor": 0
      },
      "text/plain": [
       "HBox(children=(FloatProgress(value=1.0, bar_style='info', max=1.0), HTML(value='')))"
      ]
     },
     "metadata": {},
     "output_type": "display_data"
    },
    {
     "name": "stdout",
     "output_type": "stream",
     "text": [
      "Model saved in autoencoder.005.hdf5\n",
      "\n",
      "\n",
      "Epoch 7/25\n"
     ]
    },
    {
     "data": {
      "application/vnd.jupyter.widget-view+json": {
       "model_id": "69dfe8ab635241378135a42b88221b68",
       "version_major": 2,
       "version_minor": 0
      },
      "text/plain": [
       "HBox(children=(FloatProgress(value=1.0, bar_style='info', max=1.0), HTML(value='')))"
      ]
     },
     "metadata": {},
     "output_type": "display_data"
    },
    {
     "name": "stdout",
     "output_type": "stream",
     "text": [
      "Model saved in autoencoder.006.hdf5\n",
      "\n",
      "\n",
      "Epoch 8/25\n"
     ]
    },
    {
     "data": {
      "application/vnd.jupyter.widget-view+json": {
       "model_id": "f057335d7b414b8fbed39e563a2f31e8",
       "version_major": 2,
       "version_minor": 0
      },
      "text/plain": [
       "HBox(children=(FloatProgress(value=1.0, bar_style='info', max=1.0), HTML(value='')))"
      ]
     },
     "metadata": {},
     "output_type": "display_data"
    },
    {
     "name": "stdout",
     "output_type": "stream",
     "text": [
      "Model saved in autoencoder.007.hdf5\n",
      "\n",
      "\n",
      "Epoch 9/25\n"
     ]
    },
    {
     "data": {
      "application/vnd.jupyter.widget-view+json": {
       "model_id": "99a01f88c51b45038575e7aea3c20047",
       "version_major": 2,
       "version_minor": 0
      },
      "text/plain": [
       "HBox(children=(FloatProgress(value=1.0, bar_style='info', max=1.0), HTML(value='')))"
      ]
     },
     "metadata": {},
     "output_type": "display_data"
    },
    {
     "name": "stdout",
     "output_type": "stream",
     "text": [
      "Model saved in autoencoder.008.hdf5\n",
      "\n",
      "\n",
      "Epoch 10/25\n"
     ]
    },
    {
     "data": {
      "application/vnd.jupyter.widget-view+json": {
       "model_id": "c1a5511ad9b6423d8cfd002e2db00a6e",
       "version_major": 2,
       "version_minor": 0
      },
      "text/plain": [
       "HBox(children=(FloatProgress(value=1.0, bar_style='info', max=1.0), HTML(value='')))"
      ]
     },
     "metadata": {},
     "output_type": "display_data"
    },
    {
     "name": "stdout",
     "output_type": "stream",
     "text": [
      "Model saved in autoencoder.009.hdf5\n",
      "\n",
      "\n",
      "Epoch 11/25\n"
     ]
    },
    {
     "data": {
      "application/vnd.jupyter.widget-view+json": {
       "model_id": "8eaa23e2fc7744838440980674b8ee3f",
       "version_major": 2,
       "version_minor": 0
      },
      "text/plain": [
       "HBox(children=(FloatProgress(value=1.0, bar_style='info', max=1.0), HTML(value='')))"
      ]
     },
     "metadata": {},
     "output_type": "display_data"
    },
    {
     "name": "stdout",
     "output_type": "stream",
     "text": [
      "Model saved in autoencoder.010.hdf5\n",
      "\n",
      "\n",
      "Epoch 12/25\n"
     ]
    },
    {
     "data": {
      "application/vnd.jupyter.widget-view+json": {
       "model_id": "d348bd92eab5478788a7d345e93f364b",
       "version_major": 2,
       "version_minor": 0
      },
      "text/plain": [
       "HBox(children=(FloatProgress(value=1.0, bar_style='info', max=1.0), HTML(value='')))"
      ]
     },
     "metadata": {},
     "output_type": "display_data"
    },
    {
     "name": "stdout",
     "output_type": "stream",
     "text": [
      "Model saved in autoencoder.011.hdf5\n",
      "\n",
      "\n",
      "Epoch 13/25\n"
     ]
    },
    {
     "data": {
      "application/vnd.jupyter.widget-view+json": {
       "model_id": "79480c1ccbf24aa4a1c25814a541298f",
       "version_major": 2,
       "version_minor": 0
      },
      "text/plain": [
       "HBox(children=(FloatProgress(value=1.0, bar_style='info', max=1.0), HTML(value='')))"
      ]
     },
     "metadata": {},
     "output_type": "display_data"
    },
    {
     "name": "stdout",
     "output_type": "stream",
     "text": [
      "Model saved in autoencoder.012.hdf5\n",
      "\n",
      "\n",
      "Epoch 14/25\n"
     ]
    },
    {
     "data": {
      "application/vnd.jupyter.widget-view+json": {
       "model_id": "450e27c710b54d3a9d70f4ebf2d60c37",
       "version_major": 2,
       "version_minor": 0
      },
      "text/plain": [
       "HBox(children=(FloatProgress(value=1.0, bar_style='info', max=1.0), HTML(value='')))"
      ]
     },
     "metadata": {},
     "output_type": "display_data"
    },
    {
     "name": "stdout",
     "output_type": "stream",
     "text": [
      "Model saved in autoencoder.013.hdf5\n",
      "\n",
      "\n",
      "Epoch 15/25\n"
     ]
    },
    {
     "data": {
      "application/vnd.jupyter.widget-view+json": {
       "model_id": "724b8c6aed5d4575b4c88a8fa8eab462",
       "version_major": 2,
       "version_minor": 0
      },
      "text/plain": [
       "HBox(children=(FloatProgress(value=1.0, bar_style='info', max=1.0), HTML(value='')))"
      ]
     },
     "metadata": {},
     "output_type": "display_data"
    },
    {
     "name": "stdout",
     "output_type": "stream",
     "text": [
      "Model saved in autoencoder.014.hdf5\n",
      "\n",
      "\n",
      "Epoch 16/25\n"
     ]
    },
    {
     "data": {
      "application/vnd.jupyter.widget-view+json": {
       "model_id": "3782fe024a634d8d9cae9492d9aad025",
       "version_major": 2,
       "version_minor": 0
      },
      "text/plain": [
       "HBox(children=(FloatProgress(value=1.0, bar_style='info', max=1.0), HTML(value='')))"
      ]
     },
     "metadata": {},
     "output_type": "display_data"
    },
    {
     "name": "stdout",
     "output_type": "stream",
     "text": [
      "Model saved in autoencoder.015.hdf5\n",
      "\n",
      "\n",
      "Epoch 17/25\n"
     ]
    },
    {
     "data": {
      "application/vnd.jupyter.widget-view+json": {
       "model_id": "b28dcad59b10440eb9f9bc03bac9893c",
       "version_major": 2,
       "version_minor": 0
      },
      "text/plain": [
       "HBox(children=(FloatProgress(value=1.0, bar_style='info', max=1.0), HTML(value='')))"
      ]
     },
     "metadata": {},
     "output_type": "display_data"
    },
    {
     "name": "stdout",
     "output_type": "stream",
     "text": [
      "Model saved in autoencoder.016.hdf5\n",
      "\n",
      "\n",
      "Epoch 18/25\n"
     ]
    },
    {
     "data": {
      "application/vnd.jupyter.widget-view+json": {
       "model_id": "0996c1f743f84c5982b9b29b122497a1",
       "version_major": 2,
       "version_minor": 0
      },
      "text/plain": [
       "HBox(children=(FloatProgress(value=1.0, bar_style='info', max=1.0), HTML(value='')))"
      ]
     },
     "metadata": {},
     "output_type": "display_data"
    },
    {
     "name": "stdout",
     "output_type": "stream",
     "text": [
      "Model saved in autoencoder.017.hdf5\n",
      "\n",
      "\n",
      "Epoch 19/25\n"
     ]
    },
    {
     "data": {
      "application/vnd.jupyter.widget-view+json": {
       "model_id": "ed8d3babce544c67b87f547140cf0c2d",
       "version_major": 2,
       "version_minor": 0
      },
      "text/plain": [
       "HBox(children=(FloatProgress(value=1.0, bar_style='info', max=1.0), HTML(value='')))"
      ]
     },
     "metadata": {},
     "output_type": "display_data"
    },
    {
     "name": "stdout",
     "output_type": "stream",
     "text": [
      "Model saved in autoencoder.018.hdf5\n",
      "\n",
      "\n",
      "Epoch 20/25\n"
     ]
    },
    {
     "data": {
      "application/vnd.jupyter.widget-view+json": {
       "model_id": "7503027e4a1c4fe2a900134f15e044ad",
       "version_major": 2,
       "version_minor": 0
      },
      "text/plain": [
       "HBox(children=(FloatProgress(value=1.0, bar_style='info', max=1.0), HTML(value='')))"
      ]
     },
     "metadata": {},
     "output_type": "display_data"
    },
    {
     "name": "stdout",
     "output_type": "stream",
     "text": [
      "Model saved in autoencoder.019.hdf5\n",
      "\n",
      "\n",
      "Epoch 21/25\n"
     ]
    },
    {
     "data": {
      "application/vnd.jupyter.widget-view+json": {
       "model_id": "81b10cb7112446dca3c63e0ab55a8491",
       "version_major": 2,
       "version_minor": 0
      },
      "text/plain": [
       "HBox(children=(FloatProgress(value=1.0, bar_style='info', max=1.0), HTML(value='')))"
      ]
     },
     "metadata": {},
     "output_type": "display_data"
    },
    {
     "name": "stdout",
     "output_type": "stream",
     "text": [
      "Model saved in autoencoder.020.hdf5\n",
      "\n",
      "\n",
      "Epoch 22/25\n"
     ]
    },
    {
     "data": {
      "application/vnd.jupyter.widget-view+json": {
       "model_id": "e0ce33798bef4fecbf181e96efd7156c",
       "version_major": 2,
       "version_minor": 0
      },
      "text/plain": [
       "HBox(children=(FloatProgress(value=1.0, bar_style='info', max=1.0), HTML(value='')))"
      ]
     },
     "metadata": {},
     "output_type": "display_data"
    },
    {
     "name": "stdout",
     "output_type": "stream",
     "text": [
      "Model saved in autoencoder.021.hdf5\n",
      "\n",
      "\n",
      "Epoch 23/25\n"
     ]
    },
    {
     "data": {
      "application/vnd.jupyter.widget-view+json": {
       "model_id": "cda6b4bd4c4e40af8034f4b095d73fe0",
       "version_major": 2,
       "version_minor": 0
      },
      "text/plain": [
       "HBox(children=(FloatProgress(value=1.0, bar_style='info', max=1.0), HTML(value='')))"
      ]
     },
     "metadata": {},
     "output_type": "display_data"
    },
    {
     "name": "stdout",
     "output_type": "stream",
     "text": [
      "Model saved in autoencoder.022.hdf5\n",
      "\n",
      "\n",
      "Epoch 24/25\n"
     ]
    },
    {
     "data": {
      "application/vnd.jupyter.widget-view+json": {
       "model_id": "8d00d82dfd5d48429b4b3da611de234b",
       "version_major": 2,
       "version_minor": 0
      },
      "text/plain": [
       "HBox(children=(FloatProgress(value=1.0, bar_style='info', max=1.0), HTML(value='')))"
      ]
     },
     "metadata": {},
     "output_type": "display_data"
    },
    {
     "name": "stdout",
     "output_type": "stream",
     "text": [
      "Model saved in autoencoder.023.hdf5\n",
      "\n",
      "\n",
      "Epoch 25/25\n"
     ]
    },
    {
     "data": {
      "application/vnd.jupyter.widget-view+json": {
       "model_id": "a0cd989341754db6baea8b5f72646d0d",
       "version_major": 2,
       "version_minor": 0
      },
      "text/plain": [
       "HBox(children=(FloatProgress(value=1.0, bar_style='info', max=1.0), HTML(value='')))"
      ]
     },
     "metadata": {},
     "output_type": "display_data"
    },
    {
     "name": "stdout",
     "output_type": "stream",
     "text": [
      "Model saved in autoencoder.024.hdf5\n",
      "\n"
     ]
    },
    {
     "data": {
      "text/plain": [
       "<keras.callbacks.callbacks.History at 0x2148cc437b8>"
      ]
     },
     "execution_count": 44,
     "metadata": {},
     "output_type": "execute_result"
    }
   ],
   "source": [
    "autoencoder.fit(x=X_train, y=X_train, epochs=25,\n",
    "                validation_data=[X_test, X_test],\n",
    "                callbacks=[keras_utils.ModelSaveCallback(model_filename),\n",
    "                           keras_utils.TqdmProgressCallback()],\n",
    "                verbose=0,\n",
    "                initial_epoch=last_finished_epoch or 0)"
   ]
  },
  {
   "cell_type": "code",
   "execution_count": 45,
   "metadata": {
    "ExecuteTime": {
     "end_time": "2018-01-04T16:49:25.084704Z",
     "start_time": "2018-01-04T16:49:23.236568Z"
    },
    "scrolled": true
   },
   "outputs": [
    {
     "name": "stdout",
     "output_type": "stream",
     "text": [
      "Convolutional autoencoder MSE: 0.005483937870973133\n"
     ]
    },
    {
     "data": {
      "image/png": "[encoded data removed]",
      "text/plain": [
       "<Figure size 432x288 with 3 Axes>"
      ]
     },
     "metadata": {
      "needs_background": "light"
     },
     "output_type": "display_data"
    },
    {
     "data": {
      "image/png": "[encoded data removed]",
      "text/plain": [
       "<Figure size 432x288 with 3 Axes>"
      ]
     },
     "metadata": {
      "needs_background": "light"
     },
     "output_type": "display_data"
    },
    {
     "data": {
      "image/png": "[encoded data removed]",
      "text/plain": [
       "<Figure size 432x288 with 3 Axes>"
      ]
     },
     "metadata": {
      "needs_background": "light"
     },
     "output_type": "display_data"
    },
    {
     "data": {
      "image/png": "[encoded data removed]",
      "text/plain": [
       "<Figure size 432x288 with 3 Axes>"
      ]
     },
     "metadata": {
      "needs_background": "light"
     },
     "output_type": "display_data"
    },
    {
     "data": {
      "image/png": "[encoded data removed]",
      "text/plain": [
       "<Figure size 432x288 with 3 Axes>"
      ]
     },
     "metadata": {
      "needs_background": "light"
     },
     "output_type": "display_data"
    }
   ],
   "source": [
    "reconstruction_mse = autoencoder.evaluate(X_test, X_test, verbose=0)\n",
    "print(\"Convolutional autoencoder MSE:\", reconstruction_mse)\n",
    "for i in range(5):\n",
    "    img = X_test[i]\n",
    "    visualize(img,encoder,decoder)"
   ]
  },
  {
   "cell_type": "code",
   "execution_count": 46,
   "metadata": {
    "ExecuteTime": {
     "end_time": "2018-01-04T16:49:54.273061Z",
     "start_time": "2018-01-04T16:49:54.230656Z"
    }
   },
   "outputs": [],
   "source": [
    "# save trained weights\n",
    "encoder.save_weights(\"encoder.h5\")\n",
    "decoder.save_weights(\"decoder.h5\")"
   ]
  },
  {
   "cell_type": "code",
   "execution_count": 47,
   "metadata": {
    "ExecuteTime": {
     "end_time": "2018-01-04T16:50:01.657093Z",
     "start_time": "2018-01-04T16:50:01.067976Z"
    }
   },
   "outputs": [
    {
     "name": "stdout",
     "output_type": "stream",
     "text": [
      "0.005483937870973133\n",
      "0.005483937870973133\n"
     ]
    }
   ],
   "source": [
    "# restore trained weights\n",
    "s = tf.compat.v1.reset_default_graph()\n",
    "\n",
    "encoder, decoder = build_deep_autoencoder(IMG_SHAPE, code_size=32)\n",
    "encoder.load_weights(\"encoder.h5\")\n",
    "decoder.load_weights(\"decoder.h5\")\n",
    "\n",
    "inp = L.Input(IMG_SHAPE)\n",
    "code = encoder(inp)\n",
    "reconstruction = decoder(code)\n",
    "\n",
    "autoencoder = keras.models.Model(inputs=inp, outputs=reconstruction)\n",
    "autoencoder.compile(optimizer=\"adamax\", loss='mse')\n",
    "\n",
    "print(autoencoder.evaluate(X_test, X_test, verbose=0))\n",
    "print(reconstruction_mse)"
   ]
  },
  {
   "cell_type": "markdown",
   "metadata": {},
   "source": [
    "# Submit to Coursera"
   ]
  },
  {
   "cell_type": "code",
   "execution_count": 49,
   "metadata": {},
   "outputs": [
    {
     "name": "stdout",
     "output_type": "stream",
     "text": [
      "Submitted to Coursera platform. See results on assignment page!\n"
     ]
    }
   ],
   "source": [
    "from submit import submit_autoencoder\n",
    "submission = build_deep_autoencoder(IMG_SHAPE, code_size=71)\n",
    "\n",
    "# token expires every 30 min\n",
    "COURSERA_TOKEN = \"97UQUvsgfBjuNrx1\"### YOUR TOKEN HERE\n",
    "COURSERA_EMAIL = \"yeoman_ghs@hotmail.com\"### YOUR EMAIL HERE\n",
    "\n",
    "submit_autoencoder(submission, reconstruction_mse, COURSERA_EMAIL, COURSERA_TOKEN)"
   ]
  },
  {
   "cell_type": "markdown",
   "metadata": {},
   "source": [
    "# Optional: Denoising Autoencoder\n",
    "\n",
    "This part is **optional**, it shows you one useful application of autoencoders: denoising. You can run this code and make sure denoising works :) \n",
    "\n",
    "Let's now turn our model into a denoising autoencoder:\n",
    "<img src=\"images/denoising.jpg\" style=\"width:40%\">\n",
    "\n",
    "We'll keep the model architecture, but change the way it is trained. In particular, we'll corrupt its input data randomly with noise before each epoch.\n",
    "\n",
    "There are many strategies to introduce noise: adding gaussian white noise, occluding with random black rectangles, etc. We will add gaussian white noise."
   ]
  },
  {
   "cell_type": "code",
   "execution_count": null,
   "metadata": {
    "ExecuteTime": {
     "end_time": "2018-01-04T16:52:04.861818Z",
     "start_time": "2018-01-04T16:52:04.856134Z"
    },
    "collapsed": true
   },
   "outputs": [],
   "source": [
    "def apply_gaussian_noise(X,sigma=0.1):\n",
    "    \"\"\"\n",
    "    adds noise from standard normal distribution with standard deviation sigma\n",
    "    :param X: image tensor of shape [batch,height,width,3]\n",
    "    Returns X + noise.\n",
    "    \"\"\"\n",
    "    noise = ### YOUR CODE HERE ###\n",
    "    return X + noise"
   ]
  },
  {
   "cell_type": "code",
   "execution_count": null,
   "metadata": {
    "ExecuteTime": {
     "end_time": "2018-01-04T16:52:06.264119Z",
     "start_time": "2018-01-04T16:52:06.223714Z"
    },
    "collapsed": true
   },
   "outputs": [],
   "source": [
    "# noise tests\n",
    "theoretical_std = (X_train[:100].std()**2 + 0.5**2)**.5\n",
    "our_std = apply_gaussian_noise(X_train[:100],sigma=0.5).std()\n",
    "assert abs(theoretical_std - our_std) < 0.01, \"Standard deviation does not match it's required value. Make sure you use sigma as std.\"\n",
    "assert abs(apply_gaussian_noise(X_train[:100],sigma=0.5).mean() - X_train[:100].mean()) < 0.01, \"Mean has changed. Please add zero-mean noise\""
   ]
  },
  {
   "cell_type": "code",
   "execution_count": null,
   "metadata": {
    "ExecuteTime": {
     "end_time": "2018-01-04T16:52:08.220681Z",
     "start_time": "2018-01-04T16:52:07.737460Z"
    },
    "collapsed": true
   },
   "outputs": [],
   "source": [
    "# test different noise scales\n",
    "plt.subplot(1,4,1)\n",
    "show_image(X_train[0])\n",
    "plt.subplot(1,4,2)\n",
    "show_image(apply_gaussian_noise(X_train[:1],sigma=0.01)[0])\n",
    "plt.subplot(1,4,3)\n",
    "show_image(apply_gaussian_noise(X_train[:1],sigma=0.1)[0])\n",
    "plt.subplot(1,4,4)\n",
    "show_image(apply_gaussian_noise(X_train[:1],sigma=0.5)[0])"
   ]
  },
  {
   "cell_type": "markdown",
   "metadata": {},
   "source": [
    "Training will take **1 hour**."
   ]
  },
  {
   "cell_type": "code",
   "execution_count": null,
   "metadata": {
    "ExecuteTime": {
     "end_time": "2018-01-04T16:56:02.667408Z",
     "start_time": "2018-01-04T16:52:31.853874Z"
    },
    "collapsed": true,
    "scrolled": true
   },
   "outputs": [],
   "source": [
    "s = reset_tf_session()\n",
    "\n",
    "# we use bigger code size here for better quality\n",
    "encoder, decoder = build_deep_autoencoder(IMG_SHAPE, code_size=512)\n",
    "assert encoder.output_shape[1:]==(512,), \"encoder must output a code of required size\"\n",
    "\n",
    "inp = L.Input(IMG_SHAPE)\n",
    "code = encoder(inp)\n",
    "reconstruction = decoder(code)\n",
    "\n",
    "autoencoder = keras.models.Model(inp, reconstruction)\n",
    "autoencoder.compile('adamax', 'mse')\n",
    "\n",
    "for i in range(25):\n",
    "    print(\"Epoch %i/25, Generating corrupted samples...\"%(i+1))\n",
    "    X_train_noise = apply_gaussian_noise(X_train)\n",
    "    X_test_noise = apply_gaussian_noise(X_test)\n",
    "    \n",
    "    # we continue to train our model with new noise-augmented data\n",
    "    autoencoder.fit(x=X_train_noise, y=X_train, epochs=1,\n",
    "                    validation_data=[X_test_noise, X_test],\n",
    "                    callbacks=[keras_utils.TqdmProgressCallback()],\n",
    "                    verbose=0)"
   ]
  },
  {
   "cell_type": "code",
   "execution_count": null,
   "metadata": {
    "ExecuteTime": {
     "end_time": "2018-01-04T16:56:09.059164Z",
     "start_time": "2018-01-04T16:56:06.987995Z"
    },
    "collapsed": true,
    "scrolled": true
   },
   "outputs": [],
   "source": [
    "X_test_noise = apply_gaussian_noise(X_test)\n",
    "denoising_mse = autoencoder.evaluate(X_test_noise, X_test, verbose=0)\n",
    "print(\"Denoising MSE:\", denoising_mse)\n",
    "for i in range(5):\n",
    "    img = X_test_noise[i]\n",
    "    visualize(img,encoder,decoder)"
   ]
  },
  {
   "cell_type": "markdown",
   "metadata": {},
   "source": [
    "# Optional: Image retrieval with autoencoders\n",
    "\n",
    "So we've just trained a network that converts image into itself imperfectly. This task is not that useful in and of itself, but it has a number of awesome side-effects. Let's see them in action.\n",
    "\n",
    "First thing we can do is image retrieval aka image search. We will give it an image and find similar images in latent space:\n",
    "\n",
    "<img src=\"images/similar_images.jpg\" style=\"width:60%\">\n",
    "\n",
    "To speed up retrieval process, one should use Locality Sensitive Hashing on top of encoded vectors. This [technique](https://erikbern.com/2015/07/04/benchmark-of-approximate-nearest-neighbor-libraries.html) can narrow down the potential nearest neighbours of our image in latent space (encoder code). We will caclulate nearest neighbours in brute force way for simplicity."
   ]
  },
  {
   "cell_type": "code",
   "execution_count": null,
   "metadata": {
    "ExecuteTime": {
     "end_time": "2018-01-04T16:56:25.988163Z",
     "start_time": "2018-01-04T16:56:25.784071Z"
    },
    "collapsed": true
   },
   "outputs": [],
   "source": [
    "# restore trained encoder weights\n",
    "s = reset_tf_session()\n",
    "encoder, decoder = build_deep_autoencoder(IMG_SHAPE, code_size=32)\n",
    "encoder.load_weights(\"encoder.h5\")"
   ]
  },
  {
   "cell_type": "code",
   "execution_count": null,
   "metadata": {
    "ExecuteTime": {
     "end_time": "2018-01-04T16:56:30.368727Z",
     "start_time": "2018-01-04T16:56:29.246409Z"
    },
    "collapsed": true
   },
   "outputs": [],
   "source": [
    "images = X_train\n",
    "codes = ### YOUR CODE HERE: encode all images ###\n",
    "assert len(codes) == len(images)"
   ]
  },
  {
   "cell_type": "code",
   "execution_count": null,
   "metadata": {
    "ExecuteTime": {
     "end_time": "2018-01-04T16:56:39.396176Z",
     "start_time": "2018-01-04T16:56:39.370156Z"
    },
    "collapsed": true
   },
   "outputs": [],
   "source": [
    "from sklearn.neighbors.unsupervised import NearestNeighbors\n",
    "nei_clf = NearestNeighbors(metric=\"euclidean\")\n",
    "nei_clf.fit(codes)"
   ]
  },
  {
   "cell_type": "code",
   "execution_count": null,
   "metadata": {
    "ExecuteTime": {
     "end_time": "2018-01-04T16:56:42.213214Z",
     "start_time": "2018-01-04T16:56:42.206902Z"
    },
    "collapsed": true
   },
   "outputs": [],
   "source": [
    "def get_similar(image, n_neighbors=5):\n",
    "    assert image.ndim==3,\"image must be [batch,height,width,3]\"\n",
    "\n",
    "    code = encoder.predict(image[None])\n",
    "    \n",
    "    (distances,),(idx,) = nei_clf.kneighbors(code,n_neighbors=n_neighbors)\n",
    "    \n",
    "    return distances,images[idx]"
   ]
  },
  {
   "cell_type": "code",
   "execution_count": null,
   "metadata": {
    "ExecuteTime": {
     "end_time": "2018-01-04T16:56:44.008658Z",
     "start_time": "2018-01-04T16:56:43.997658Z"
    },
    "collapsed": true
   },
   "outputs": [],
   "source": [
    "def show_similar(image):\n",
    "    \n",
    "    distances,neighbors = get_similar(image,n_neighbors=3)\n",
    "    \n",
    "    plt.figure(figsize=[8,7])\n",
    "    plt.subplot(1,4,1)\n",
    "    show_image(image)\n",
    "    plt.title(\"Original image\")\n",
    "    \n",
    "    for i in range(3):\n",
    "        plt.subplot(1,4,i+2)\n",
    "        show_image(neighbors[i])\n",
    "        plt.title(\"Dist=%.3f\"%distances[i])\n",
    "    plt.show()"
   ]
  },
  {
   "cell_type": "markdown",
   "metadata": {},
   "source": [
    "Cherry-picked examples:"
   ]
  },
  {
   "cell_type": "code",
   "execution_count": null,
   "metadata": {
    "ExecuteTime": {
     "end_time": "2018-01-04T16:57:31.768260Z",
     "start_time": "2018-01-04T16:57:31.240174Z"
    },
    "collapsed": true
   },
   "outputs": [],
   "source": [
    "# smiles\n",
    "show_similar(X_test[247])"
   ]
  },
  {
   "cell_type": "code",
   "execution_count": null,
   "metadata": {
    "ExecuteTime": {
     "end_time": "2018-01-04T16:56:50.828404Z",
     "start_time": "2018-01-04T16:56:50.462822Z"
    },
    "collapsed": true
   },
   "outputs": [],
   "source": [
    "# ethnicity\n",
    "show_similar(X_test[56])"
   ]
  },
  {
   "cell_type": "code",
   "execution_count": null,
   "metadata": {
    "ExecuteTime": {
     "end_time": "2018-01-04T16:56:52.939288Z",
     "start_time": "2018-01-04T16:56:52.576097Z"
    },
    "collapsed": true,
    "scrolled": false
   },
   "outputs": [],
   "source": [
    "# glasses\n",
    "show_similar(X_test[63])"
   ]
  },
  {
   "cell_type": "markdown",
   "metadata": {
    "collapsed": true
   },
   "source": [
    "# Optional: Cheap image morphing\n"
   ]
  },
  {
   "cell_type": "markdown",
   "metadata": {},
   "source": [
    "We can take linear combinations of image codes to produce new images with decoder."
   ]
  },
  {
   "cell_type": "code",
   "execution_count": null,
   "metadata": {
    "ExecuteTime": {
     "end_time": "2018-01-04T16:57:58.378044Z",
     "start_time": "2018-01-04T16:57:58.145544Z"
    },
    "collapsed": true
   },
   "outputs": [],
   "source": [
    "# restore trained encoder weights\n",
    "s = reset_tf_session()\n",
    "encoder, decoder = build_deep_autoencoder(IMG_SHAPE, code_size=32)\n",
    "encoder.load_weights(\"encoder.h5\")\n",
    "decoder.load_weights(\"decoder.h5\")"
   ]
  },
  {
   "cell_type": "code",
   "execution_count": null,
   "metadata": {
    "ExecuteTime": {
     "end_time": "2018-01-04T16:58:03.396368Z",
     "start_time": "2018-01-04T16:58:00.359973Z"
    },
    "collapsed": true
   },
   "outputs": [],
   "source": [
    "for _ in range(5):\n",
    "    image1,image2 = X_test[np.random.randint(0,len(X_test),size=2)]\n",
    "\n",
    "    code1, code2 = encoder.predict(np.stack([image1, image2]))\n",
    "\n",
    "    plt.figure(figsize=[10,4])\n",
    "    for i,a in enumerate(np.linspace(0,1,num=7)):\n",
    "\n",
    "        output_code = code1*(1-a) + code2*(a)\n",
    "        output_image = decoder.predict(output_code[None])[0]\n",
    "\n",
    "        plt.subplot(1,7,i+1)\n",
    "        show_image(output_image)\n",
    "        plt.title(\"a=%.2f\"%a)\n",
    "        \n",
    "    plt.show()"
   ]
  },
  {
   "cell_type": "markdown",
   "metadata": {
    "collapsed": true
   },
   "source": [
    "That's it!\n",
    "\n",
    "Of course there's a lot more you can do with autoencoders.\n",
    "\n",
    "If you want to generate images from scratch, however, we recommend you our honor track on Generative Adversarial Networks or GANs."
   ]
  }
 ],
 "metadata": {
  "kernelspec": {
   "display_name": "Python 3",
   "language": "python",
   "name": "python3"
  },
  "language_info": {
   "codemirror_mode": {
    "name": "ipython",
    "version": 3
   },
   "file_extension": ".py",
   "mimetype": "text/x-python",
   "name": "python",
   "nbconvert_exporter": "python",
   "pygments_lexer": "ipython3",
   "version": "3.7.3"
  },
  "toc": {
   "colors": {
    "hover_highlight": "#DAA520",
    "navigate_num": "#000000",
    "navigate_text": "#333333",
    "running_highlight": "#FF0000",
    "selected_highlight": "#FFD700",
    "sidebar_border": "#EEEEEE",
    "wrapper_background": "#FFFFFF"
   },
   "moveMenuLeft": true,
   "nav_menu": {
    "height": "192px",
    "width": "252px"
   },
   "navigate_menu": true,
   "number_sections": true,
   "sideBar": true,
   "threshold": 4,
   "toc_cell": false,
   "toc_section_display": "block",
   "toc_window_display": false,
   "widenNotebook": false
  }
 },
 "nbformat": 4,
 "nbformat_minor": 2
}
